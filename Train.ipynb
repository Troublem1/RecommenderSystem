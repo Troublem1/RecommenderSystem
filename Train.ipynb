{
 "cells": [
  {
   "cell_type": "markdown",
   "metadata": {},
   "source": [
    "# Train Recommender System\n",
    "On this notebook we will use Pytorch to implement Recommender Systems using the following techniques:\n",
    "* Matrix Factorisation\n",
    "* Collaborative Filtering\n",
    "\n",
    "#### Refereces\n",
    "* https://blog.fastforwardlabs.com/2018/04/10/pytorch-for-recommenders-101.html\n",
    "* https://medium.com/@iliazaitsev/how-to-implement-a-recommendation-system-with-deep-learning-and-pytorch-2d40476590f9\n",
    "* https://towardsdatascience.com/recommender-systems-using-deep-learning-in-pytorch-from-scratch-f661b8f391d7\n",
    "* http://hameddaily.blogspot.com/2016/12/simple-matrix-factorization-with.html?m=1"
   ]
  },
  {
   "cell_type": "code",
   "execution_count": 1,
   "metadata": {},
   "outputs": [
    {
     "name": "stdout",
     "output_type": "stream",
     "text": [
      "PyTorch Version:  1.1.0\n",
      "Device: cuda:0\n",
      "Number of GPUs Available: 8\n"
     ]
    }
   ],
   "source": [
    "import torch\n",
    "import torch.optim as optim\n",
    "import torch.nn as nn\n",
    "from torch.utils.tensorboard import SummaryWriter\n",
    "import numpy as np\n",
    "\n",
    "import models\n",
    "from movie100k_dataset_np import MovieLensNumpy\n",
    "import utils_train\n",
    "print(\"PyTorch Version: \",torch.__version__)\n",
    "\n",
    "# Jupyter Widgets\n",
    "from IPython.display import clear_output, display\n",
    "from ipywidgets import interact, interactive, fixed, interact_manual\n",
    "import ipywidgets as widgets\n",
    "\n",
    "# Hyperparameters\n",
    "num_epochs = 50\n",
    "batch_size = 1024 #20\n",
    "base_lr = 1e-2\n",
    "n_factors = 20\n",
    "num_users = 944\n",
    "num_movies = 1683\n",
    "\n",
    "device = torch.device(\"cuda:0\" if torch.cuda.is_available() else \"cpu\")\n",
    "print('Device:', device)\n",
    "if device != 'cpu':\n",
    "    num_gpu = torch.cuda.device_count()\n",
    "    batch_size *= num_gpu\n",
    "    base_lr *= num_gpu\n",
    "    print('Number of GPUs Available:', num_gpu)"
   ]
  },
  {
   "cell_type": "markdown",
   "metadata": {},
   "source": [
    "#### Load Train/Validation data"
   ]
  },
  {
   "cell_type": "code",
   "execution_count": 2,
   "metadata": {},
   "outputs": [],
   "source": [
    "train_dataset = MovieLensNumpy('train.npy')\n",
    "val_dataset = MovieLensNumpy('val.npy')\n",
    "\n",
    "# Create training and validation dataloaders\n",
    "train_loader = torch.utils.data.DataLoader(train_dataset, batch_size=batch_size, shuffle=True, num_workers=16)\n",
    "val_loader = torch.utils.data.DataLoader(val_dataset, batch_size=batch_size, shuffle=False, num_workers=16)\n",
    "dataloaders_dict = {'train': train_loader, 'val': val_loader}"
   ]
  },
  {
   "cell_type": "markdown",
   "metadata": {},
   "source": [
    "#### Initialize Tensorboard"
   ]
  },
  {
   "cell_type": "code",
   "execution_count": 3,
   "metadata": {},
   "outputs": [],
   "source": [
    "# Default directory \"runs\"\n",
    "writer = SummaryWriter()"
   ]
  },
  {
   "cell_type": "markdown",
   "metadata": {},
   "source": [
    "#### Initialize Model"
   ]
  },
  {
   "cell_type": "code",
   "execution_count": 4,
   "metadata": {},
   "outputs": [
    {
     "name": "stderr",
     "output_type": "stream",
     "text": [
      "/mnt/anaconda3/lib/python3.7/site-packages/torch/onnx/symbolic.py:569: UserWarning: ONNX export squeeze with negative axis -1 might cause the onnx model to be incorrect. Negative axis is not supported in ONNX. Axis is converted to 1 based on input shape at export time. Passing an tensor of different rank in execution will be incorrect.\n",
      "  \"Passing an tensor of different rank in execution will be incorrect.\")\n"
     ]
    }
   ],
   "source": [
    "user_dummy = torch.randint(0, num_users, (10,))\n",
    "movie_dummy = torch.randint(0, num_movies, (10,))\n",
    "#recommender_model = models.MatrixFactorization(num_users, num_movies, n_factors=n_factors)\n",
    "recommender_model = models.DenseNet(num_users, num_movies, n_factors=n_factors)\n",
    "\n",
    "# Add on Tensorboard the Model Graph\n",
    "writer.add_graph(recommender_model, [user_dummy, movie_dummy])"
   ]
  },
  {
   "cell_type": "markdown",
   "metadata": {},
   "source": [
    "#### Distribute model to multiple GPUs if available"
   ]
  },
  {
   "cell_type": "code",
   "execution_count": 5,
   "metadata": {},
   "outputs": [],
   "source": [
    "if device != 'cpu':\n",
    "    if num_gpu > 1:\n",
    "        recommender_model = nn.DataParallel(recommender_model)\n",
    "recommender_model = recommender_model.to(device)"
   ]
  },
  {
   "cell_type": "markdown",
   "metadata": {},
   "source": [
    "#### Initialize Optimizer and Loss Function"
   ]
  },
  {
   "cell_type": "code",
   "execution_count": 6,
   "metadata": {},
   "outputs": [],
   "source": [
    "loss_fn = torch.nn.MSELoss() \n",
    "# Can't use Adam/SparseAdam because of the Sparse Embedding\n",
    "optimizer = torch.optim.Adam(recommender_model.parameters(),lr=base_lr)\n",
    "sc_plt = torch.optim.lr_scheduler.ReduceLROnPlateau(optimizer, patience=3, verbose=True)    "
   ]
  },
  {
   "cell_type": "markdown",
   "metadata": {},
   "source": [
    "#### Train"
   ]
  },
  {
   "cell_type": "code",
   "execution_count": 7,
   "metadata": {},
   "outputs": [
    {
     "name": "stdout",
     "output_type": "stream",
     "text": [
      "Epoch 0/49\n",
      "----------\n",
      "train Loss: 0.0006\n",
      "val Loss: 0.0002\n",
      "Epoch 1/49\n",
      "----------\n",
      "train Loss: 0.0002\n",
      "val Loss: 0.0002\n",
      "Epoch 2/49\n",
      "----------\n",
      "train Loss: 0.0002\n",
      "val Loss: 0.0001\n",
      "Epoch 3/49\n",
      "----------\n",
      "train Loss: 0.0002\n",
      "val Loss: 0.0001\n",
      "Epoch 4/49\n",
      "----------\n",
      "train Loss: 0.0001\n",
      "val Loss: 0.0001\n",
      "Epoch 5/49\n",
      "----------\n",
      "train Loss: 0.0001\n",
      "val Loss: 0.0001\n",
      "Epoch 6/49\n",
      "----------\n",
      "train Loss: 0.0001\n",
      "val Loss: 0.0001\n",
      "Epoch 7/49\n",
      "----------\n",
      "train Loss: 0.0001\n",
      "val Loss: 0.0001\n",
      "Epoch 8/49\n",
      "----------\n",
      "train Loss: 0.0001\n",
      "val Loss: 0.0001\n",
      "Epoch 9/49\n",
      "----------\n",
      "train Loss: 0.0001\n",
      "val Loss: 0.0001\n",
      "Epoch 10/49\n",
      "----------\n",
      "train Loss: 0.0001\n",
      "val Loss: 0.0001\n",
      "Epoch 11/49\n",
      "----------\n",
      "train Loss: 0.0001\n",
      "val Loss: 0.0001\n",
      "Epoch 12/49\n",
      "----------\n",
      "train Loss: 0.0001\n",
      "val Loss: 0.0001\n",
      "Epoch 13/49\n",
      "----------\n",
      "train Loss: 0.0001\n",
      "val Loss: 0.0001\n",
      "Epoch 14/49\n",
      "----------\n",
      "train Loss: 0.0001\n",
      "val Loss: 0.0001\n",
      "Epoch 15/49\n",
      "----------\n",
      "train Loss: 0.0001\n",
      "val Loss: 0.0001\n",
      "Epoch 16/49\n",
      "----------\n",
      "train Loss: 0.0001\n",
      "val Loss: 0.0001\n",
      "Epoch 17/49\n",
      "----------\n",
      "train Loss: 0.0001\n",
      "val Loss: 0.0001\n",
      "Epoch 18/49\n",
      "----------\n",
      "train Loss: 0.0001\n",
      "val Loss: 0.0001\n",
      "Epoch 19/49\n",
      "----------\n",
      "train Loss: 0.0001\n",
      "val Loss: 0.0001\n",
      "Epoch 20/49\n",
      "----------\n",
      "train Loss: 0.0001\n",
      "val Loss: 0.0001\n",
      "Epoch 21/49\n",
      "----------\n",
      "train Loss: 0.0001\n",
      "val Loss: 0.0001\n",
      "Epoch 22/49\n",
      "----------\n",
      "train Loss: 0.0001\n",
      "val Loss: 0.0001\n",
      "Epoch 23/49\n",
      "----------\n",
      "train Loss: 0.0001\n",
      "val Loss: 0.0001\n",
      "Epoch 24/49\n",
      "----------\n",
      "train Loss: 0.0001\n",
      "val Loss: 0.0001\n",
      "Epoch 25/49\n",
      "----------\n",
      "train Loss: 0.0001\n",
      "val Loss: 0.0001\n",
      "Epoch 26/49\n",
      "----------\n",
      "train Loss: 0.0001\n",
      "val Loss: 0.0001\n",
      "Epoch 27/49\n",
      "----------\n",
      "train Loss: 0.0001\n",
      "val Loss: 0.0001\n",
      "Epoch 28/49\n",
      "----------\n",
      "train Loss: 0.0001\n",
      "val Loss: 0.0001\n",
      "Epoch 29/49\n",
      "----------\n",
      "train Loss: 0.0001\n",
      "val Loss: 0.0001\n",
      "Epoch 30/49\n",
      "----------\n",
      "train Loss: 0.0001\n",
      "val Loss: 0.0001\n",
      "Epoch 31/49\n",
      "----------\n",
      "train Loss: 0.0001\n",
      "val Loss: 0.0001\n",
      "Epoch 32/49\n",
      "----------\n",
      "train Loss: 0.0001\n",
      "val Loss: 0.0001\n",
      "Epoch 33/49\n",
      "----------\n",
      "train Loss: 0.0001\n",
      "val Loss: 0.0001\n",
      "Epoch 34/49\n",
      "----------\n",
      "train Loss: 0.0001\n",
      "val Loss: 0.0001\n",
      "Epoch 35/49\n",
      "----------\n",
      "train Loss: 0.0001\n",
      "val Loss: 0.0001\n",
      "Epoch 36/49\n",
      "----------\n",
      "train Loss: 0.0001\n",
      "val Loss: 0.0001\n",
      "Epoch 37/49\n",
      "----------\n",
      "train Loss: 0.0001\n",
      "val Loss: 0.0001\n",
      "Epoch 38/49\n",
      "----------\n",
      "train Loss: 0.0001\n",
      "val Loss: 0.0001\n",
      "Epoch 39/49\n",
      "----------\n",
      "train Loss: 0.0001\n",
      "val Loss: 0.0001\n",
      "Epoch 40/49\n",
      "----------\n",
      "train Loss: 0.0001\n",
      "val Loss: 0.0001\n",
      "Epoch 41/49\n",
      "----------\n",
      "train Loss: 0.0001\n",
      "val Loss: 0.0001\n",
      "Epoch 42/49\n",
      "----------\n",
      "train Loss: 0.0001\n",
      "val Loss: 0.0001\n",
      "Epoch 43/49\n",
      "----------\n",
      "train Loss: 0.0001\n",
      "val Loss: 0.0001\n",
      "Epoch 44/49\n",
      "----------\n",
      "train Loss: 0.0001\n",
      "val Loss: 0.0001\n",
      "Epoch 45/49\n",
      "----------\n",
      "train Loss: 0.0001\n",
      "val Loss: 0.0001\n",
      "Epoch 46/49\n",
      "----------\n",
      "train Loss: 0.0001\n",
      "val Loss: 0.0001\n",
      "Epoch 47/49\n",
      "----------\n",
      "train Loss: 0.0001\n",
      "val Loss: 0.0001\n",
      "Epoch 48/49\n",
      "----------\n",
      "train Loss: 0.0001\n",
      "val Loss: 0.0001\n",
      "Epoch 49/49\n",
      "----------\n",
      "train Loss: 0.0001\n",
      "val Loss: 0.0001\n"
     ]
    }
   ],
   "source": [
    "best_model = utils_train.train_model(recommender_model, dataloaders_dict, loss_fn, optimizer, sc_plt, writer, device, num_epochs=num_epochs)\n",
    "torch.save(best_model.state_dict(), './best_model.pkl')"
   ]
  },
  {
   "cell_type": "markdown",
   "metadata": {},
   "source": [
    "#### Testing Model"
   ]
  },
  {
   "cell_type": "code",
   "execution_count": 8,
   "metadata": {},
   "outputs": [
    {
     "data": {
      "application/vnd.jupyter.widget-view+json": {
       "model_id": "80b92e7e42df41e8a746df77112007cf",
       "version_major": 2,
       "version_minor": 0
      },
      "text/plain": [
       "interactive(children=(IntSlider(value=0, description='idx', max=19997), Output()), _dom_classes=('widget-inter…"
      ]
     },
     "metadata": {},
     "output_type": "display_data"
    }
   ],
   "source": [
    "best_model = recommender_model\n",
    "@interact(idx=widgets.IntSlider(min=0,max=len(val_dataset)-1))\n",
    "def explore_validation_dataset(idx):\n",
    "    best_model.eval()\n",
    "    sample = val_dataset[idx]\n",
    "    user_id = torch.tensor(sample[0]).view(1,).to(device)\n",
    "    movie_id = torch.tensor(sample[1]).view(1,).to(device)\n",
    "    rating_label = sample[2]\n",
    "    print('user_id:', user_id.item())\n",
    "    print('movie_id:', movie_id.item())\n",
    "    print('Rating Label:', rating_label)\n",
    "    prediction = best_model([user_id, movie_id])    \n",
    "    print('Rating Predicted:', prediction.item())"
   ]
  }
 ],
 "metadata": {
  "kernelspec": {
   "display_name": "Python 3",
   "language": "python",
   "name": "python3"
  },
  "language_info": {
   "codemirror_mode": {
    "name": "ipython",
    "version": 3
   },
   "file_extension": ".py",
   "mimetype": "text/x-python",
   "name": "python",
   "nbconvert_exporter": "python",
   "pygments_lexer": "ipython3",
   "version": "3.7.3"
  }
 },
 "nbformat": 4,
 "nbformat_minor": 4
}
