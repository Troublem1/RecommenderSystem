{
 "cells": [
  {
   "cell_type": "markdown",
   "metadata": {},
   "source": [
    "# Train Recommender System\n",
    "\n",
    "#### Refereces\n",
    "* https://blog.fastforwardlabs.com/2018/04/10/pytorch-for-recommenders-101.html\n",
    "* https://medium.com/@iliazaitsev/how-to-implement-a-recommendation-system-with-deep-learning-and-pytorch-2d40476590f9\n",
    "* https://towardsdatascience.com/recommender-systems-using-deep-learning-in-pytorch-from-scratch-f661b8f391d7\n",
    "* http://hameddaily.blogspot.com/2016/12/simple-matrix-factorization-with.html?m=1"
   ]
  },
  {
   "cell_type": "code",
   "execution_count": 1,
   "metadata": {},
   "outputs": [
    {
     "name": "stdout",
     "output_type": "stream",
     "text": [
      "PyTorch Version:  1.1.0\n",
      "Device: cuda:0\n",
      "Number of GPUs Available: 8\n"
     ]
    }
   ],
   "source": [
    "import torch\n",
    "import torch.optim as optim\n",
    "import torch.nn as nn\n",
    "from torch.utils.tensorboard import SummaryWriter\n",
    "import numpy as np\n",
    "\n",
    "import models\n",
    "from movie100k_dataset_np import MovieLensNumpy\n",
    "import utils_train\n",
    "print(\"PyTorch Version: \",torch.__version__)\n",
    "\n",
    "# Hyperparameters\n",
    "num_epochs = 50\n",
    "batch_size = 100\n",
    "base_lr = 1e-2\n",
    "n_factors = 20\n",
    "num_users = 944\n",
    "num_movies = 1683\n",
    "\n",
    "device = torch.device(\"cuda:0\" if torch.cuda.is_available() else \"cpu\")\n",
    "print('Device:', device)\n",
    "if device != 'cpu':\n",
    "    num_gpu = torch.cuda.device_count()\n",
    "    batch_size *= num_gpu\n",
    "    base_lr *= num_gpu\n",
    "    print('Number of GPUs Available:', num_gpu)"
   ]
  },
  {
   "cell_type": "markdown",
   "metadata": {},
   "source": [
    "#### Load Train/Validation data"
   ]
  },
  {
   "cell_type": "code",
   "execution_count": 2,
   "metadata": {},
   "outputs": [],
   "source": [
    "train_dataset = MovieLensNumpy('train.npy')\n",
    "val_dataset = MovieLensNumpy('val.npy')\n",
    "\n",
    "# Create training and validation dataloaders\n",
    "train_loader = torch.utils.data.DataLoader(train_dataset, batch_size=batch_size, shuffle=True, num_workers=16)\n",
    "val_loader = torch.utils.data.DataLoader(val_dataset, batch_size=batch_size, shuffle=False, num_workers=16)\n",
    "dataloaders_dict = {'train': train_loader, 'val': val_loader}"
   ]
  },
  {
   "cell_type": "markdown",
   "metadata": {},
   "source": [
    "#### Initialize Tensorboard"
   ]
  },
  {
   "cell_type": "code",
   "execution_count": 3,
   "metadata": {},
   "outputs": [],
   "source": [
    "# Default directory \"runs\"\n",
    "writer = SummaryWriter()"
   ]
  },
  {
   "cell_type": "markdown",
   "metadata": {},
   "source": [
    "#### Initialize Model"
   ]
  },
  {
   "cell_type": "code",
   "execution_count": 4,
   "metadata": {},
   "outputs": [
    {
     "name": "stderr",
     "output_type": "stream",
     "text": [
      "/mnt/anaconda3/lib/python3.7/site-packages/torch/onnx/symbolic.py:569: UserWarning: ONNX export squeeze with negative axis -1 might cause the onnx model to be incorrect. Negative axis is not supported in ONNX. Axis is converted to 1 based on input shape at export time. Passing an tensor of different rank in execution will be incorrect.\n",
      "  \"Passing an tensor of different rank in execution will be incorrect.\")\n"
     ]
    }
   ],
   "source": [
    "user_dummy = torch.randint(0, num_users, (10,))\n",
    "movie_dummy = torch.randint(0, num_movies, (10,))\n",
    "#recommender_model = models.MatrixFactorization(num_users, num_movies, n_factors=n_factors)\n",
    "recommender_model = models.DenseNet(num_users, num_movies, n_factors=n_factors)\n",
    "\n",
    "# Add on Tensorboard the Model Graph\n",
    "writer.add_graph(recommender_model, [user_dummy, movie_dummy])"
   ]
  },
  {
   "cell_type": "markdown",
   "metadata": {},
   "source": [
    "#### Distribute model to multiple GPUs if available"
   ]
  },
  {
   "cell_type": "code",
   "execution_count": 5,
   "metadata": {},
   "outputs": [],
   "source": [
    "if num_gpu > 1:\n",
    "    recommender_model = nn.DataParallel(recommender_model)\n",
    "recommender_model = recommender_model.to(device)"
   ]
  },
  {
   "cell_type": "markdown",
   "metadata": {},
   "source": [
    "#### Initialize Optimizer and Loss Function"
   ]
  },
  {
   "cell_type": "code",
   "execution_count": 6,
   "metadata": {},
   "outputs": [],
   "source": [
    "loss_fn = torch.nn.MSELoss() \n",
    "optimizer = torch.optim.SGD(recommender_model.parameters(),lr=base_lr)\n",
    "sc_plt = torch.optim.lr_scheduler.ReduceLROnPlateau(optimizer, patience=3, verbose=True)    "
   ]
  },
  {
   "cell_type": "markdown",
   "metadata": {},
   "source": [
    "#### Train"
   ]
  },
  {
   "cell_type": "code",
   "execution_count": null,
   "metadata": {},
   "outputs": [
    {
     "name": "stdout",
     "output_type": "stream",
     "text": [
      "Epoch 0/49\n",
      "----------\n",
      "train Loss: 0.0019\n",
      "val Loss: 0.0016\n",
      "Epoch 1/49\n",
      "----------\n",
      "train Loss: 0.0016\n",
      "val Loss: 0.0015\n",
      "Epoch 2/49\n",
      "----------\n",
      "train Loss: 0.0015\n",
      "val Loss: 0.0015\n",
      "Epoch 3/49\n",
      "----------\n",
      "train Loss: 0.0015\n",
      "val Loss: 0.0015\n",
      "Epoch 4/49\n",
      "----------\n",
      "train Loss: 0.0015\n",
      "val Loss: 0.0015\n",
      "Epoch 5/49\n",
      "----------\n",
      "train Loss: 0.0014\n",
      "val Loss: 0.0015\n",
      "Epoch 6/49\n",
      "----------\n",
      "train Loss: 0.0014\n",
      "val Loss: 0.0015\n",
      "Epoch 7/49\n",
      "----------\n",
      "train Loss: 0.0014\n",
      "val Loss: 0.0015\n",
      "Epoch 8/49\n",
      "----------\n",
      "train Loss: 0.0014\n",
      "val Loss: 0.0015\n",
      "Epoch 9/49\n",
      "----------\n",
      "train Loss: 0.0014\n",
      "val Loss: 0.0014\n",
      "Epoch 10/49\n",
      "----------\n",
      "train Loss: 0.0014\n",
      "val Loss: 0.0014\n",
      "Epoch 11/49\n",
      "----------\n"
     ]
    }
   ],
   "source": [
    "best_model, _ = utils_train.train_model(recommender_model, dataloaders_dict, loss_fn, optimizer, sc_plt, writer, device, num_epochs=num_epochs)\n",
    "torch.save(best_model.state_dict(), './best_model.pkl')"
   ]
  }
 ],
 "metadata": {
  "kernelspec": {
   "display_name": "Python 3",
   "language": "python",
   "name": "python3"
  },
  "language_info": {
   "codemirror_mode": {
    "name": "ipython",
    "version": 3
   },
   "file_extension": ".py",
   "mimetype": "text/x-python",
   "name": "python",
   "nbconvert_exporter": "python",
   "pygments_lexer": "ipython3",
   "version": "3.7.3"
  }
 },
 "nbformat": 4,
 "nbformat_minor": 4
}
